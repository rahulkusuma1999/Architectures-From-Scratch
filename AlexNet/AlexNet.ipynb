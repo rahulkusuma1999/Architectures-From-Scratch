{
  "nbformat": 4,
  "nbformat_minor": 0,
  "metadata": {
    "colab": {
      "name": "AlexNet.ipynb",
      "provenance": [],
      "collapsed_sections": []
    },
    "kernelspec": {
      "name": "python3",
      "display_name": "Python 3"
    },
    "accelerator": "GPU"
  },
  "cells": [
    {
      "cell_type": "code",
      "metadata": {
        "id": "VQanbqezCELH",
        "colab_type": "code",
        "colab": {}
      },
      "source": [
        "import os\n",
        "import time\n",
        "import numpy as np\n",
        "import pandas as pd\n",
        "import torch\n",
        "import torch.nn as nn\n",
        "import torch.nn.functional as F\n",
        "from torch.utils.data import DataLoader\n",
        "from torch.utils.data.dataset import Subset\n",
        "\n",
        "from torchvision import datasets\n",
        "from torchvision import transforms\n",
        "\n",
        "import matplotlib.pyplot as plt\n",
        "from PIL import Image\n"
      ],
      "execution_count": null,
      "outputs": []
    },
    {
      "cell_type": "code",
      "metadata": {
        "id": "tSy1eJsGCXBz",
        "colab_type": "code",
        "colab": {}
      },
      "source": [
        "import matplotlib.pyplot as plt\n",
        "%matplotlib inline"
      ],
      "execution_count": null,
      "outputs": []
    },
    {
      "cell_type": "code",
      "metadata": {
        "id": "NICQ_NljCdqA",
        "colab_type": "code",
        "colab": {}
      },
      "source": [
        "randomseed = 1\n",
        "learning_rate= 0.002\n",
        "BATCH_SIZE= 128\n",
        "NUM_EPOCHS= 20\n",
        "NUM_CLASSES = 10"
      ],
      "execution_count": null,
      "outputs": []
    },
    {
      "cell_type": "code",
      "metadata": {
        "id": "FptYaRxbDDU8",
        "colab_type": "code",
        "colab": {}
      },
      "source": [
        "DEVICE = \"cuda:0\"\n",
        "\n"
      ],
      "execution_count": null,
      "outputs": []
    },
    {
      "cell_type": "code",
      "metadata": {
        "id": "n-z0dKozCqPg",
        "colab_type": "code",
        "colab": {
          "base_uri": "https://localhost:8080/",
          "height": 34
        },
        "outputId": "a7a308aa-3e1a-4bab-9bee-a8a3ae7e8289"
      },
      "source": [
        "train_indices = torch.arange(0, 48000)\n",
        "valid_indices = torch.arange(48000, 50000)\n",
        "\n",
        "\n",
        "train_transform = transforms.Compose([transforms.Resize((70, 70)),\n",
        "                                      transforms.RandomCrop((64, 64)),\n",
        "                                      transforms.ToTensor()])\n",
        "\n",
        "test_transform = transforms.Compose([transforms.Resize((70, 70)),\n",
        "                                     transforms.CenterCrop((64, 64)),\n",
        "                                     transforms.ToTensor()])\n",
        "\n",
        "train_and_valid = datasets.CIFAR10(root='data', \n",
        "                                   train=True, \n",
        "                                   transform=train_transform,\n",
        "                                   download=True)\n",
        "\n",
        "train_dataset = Subset(train_and_valid, train_indices)\n",
        "valid_dataset = Subset(train_and_valid, valid_indices)\n",
        "test_dataset = datasets.CIFAR10(root='data', \n",
        "                                train=False, \n",
        "                                transform=test_transform,\n",
        "                                download=False)\n",
        "\n",
        "\n",
        "\n",
        "\n",
        "train_loader = DataLoader(dataset=train_dataset, \n",
        "                          batch_size=BATCH_SIZE,\n",
        "                          num_workers=4,\n",
        "                          shuffle=True)\n",
        "\n",
        "valid_loader = DataLoader(dataset=valid_dataset, \n",
        "                          batch_size=BATCH_SIZE,\n",
        "                          num_workers=4,\n",
        "                          shuffle=False)\n",
        "\n",
        "test_loader = DataLoader(dataset=test_dataset, \n",
        "                         batch_size=BATCH_SIZE,\n",
        "                         num_workers=4,\n",
        "                         shuffle=False)"
      ],
      "execution_count": null,
      "outputs": [
        {
          "output_type": "stream",
          "text": [
            "Files already downloaded and verified\n"
          ],
          "name": "stdout"
        }
      ]
    },
    {
      "cell_type": "code",
      "metadata": {
        "id": "2iAZ76ioCtuY",
        "colab_type": "code",
        "colab": {}
      },
      "source": [
        ""
      ],
      "execution_count": null,
      "outputs": []
    },
    {
      "cell_type": "code",
      "metadata": {
        "id": "mUeSkRIaDJt_",
        "colab_type": "code",
        "colab": {
          "base_uri": "https://localhost:8080/",
          "height": 34
        },
        "outputId": "ce371fc7-99d2-4434-a7d3-8686c0ebaa5a"
      },
      "source": [
        "torch.manual_seed(0)"
      ],
      "execution_count": null,
      "outputs": [
        {
          "output_type": "execute_result",
          "data": {
            "text/plain": [
              "<torch._C.Generator at 0x7effacbfffb0>"
            ]
          },
          "metadata": {
            "tags": []
          },
          "execution_count": 87
        }
      ]
    },
    {
      "cell_type": "code",
      "metadata": {
        "id": "NPaRkoqMDNqH",
        "colab_type": "code",
        "colab": {
          "base_uri": "https://localhost:8080/",
          "height": 51
        },
        "outputId": "39ccbd96-63b6-4f9d-f72b-e02e4163338e"
      },
      "source": [
        "# Check that shuffling works properly\n",
        "# i.e., label indices should be in random order.\n",
        "# Also, the label order should be different in the second\n",
        "# epoch.\n",
        "\n",
        "for images, labels in train_loader:  \n",
        "    pass\n",
        "print(labels[:10])\n",
        "\n",
        "for images, labels in train_loader:  \n",
        "    pass\n",
        "print(labels[:10])"
      ],
      "execution_count": null,
      "outputs": [
        {
          "output_type": "stream",
          "text": [
            "tensor([3, 3, 5, 2, 5, 6, 7, 4, 4, 7])\n",
            "tensor([8, 3, 6, 4, 0, 3, 6, 5, 4, 1])\n"
          ],
          "name": "stdout"
        }
      ]
    },
    {
      "cell_type": "code",
      "metadata": {
        "id": "LYYG4s0RDcIf",
        "colab_type": "code",
        "colab": {
          "base_uri": "https://localhost:8080/",
          "height": 51
        },
        "outputId": "90871dff-d6bd-4928-865d-4d1a5ab54906"
      },
      "source": [
        "# Check that validation set and test sets are diverse\n",
        "# i.e., that they contain all classes\n",
        "\n",
        "for images, labels in valid_loader:  \n",
        "    pass\n",
        "print(labels[:10])\n",
        "\n",
        "for images, labels in test_loader:  \n",
        "    pass\n",
        "print(labels[:10])"
      ],
      "execution_count": null,
      "outputs": [
        {
          "output_type": "stream",
          "text": [
            "tensor([5, 0, 3, 6, 8, 7, 9, 5, 6, 6])\n",
            "tensor([7, 5, 8, 0, 8, 2, 7, 0, 3, 5])\n"
          ],
          "name": "stdout"
        }
      ]
    },
    {
      "cell_type": "code",
      "metadata": {
        "id": "B4LjceQjDh93",
        "colab_type": "code",
        "colab": {}
      },
      "source": [
        "class AlexNet(nn.Module):\n",
        "  def __init__(self,num_classes):\n",
        "    super(AlexNet,self).__init__()\n",
        "    self.features = nn.Sequential(\n",
        "        nn.Conv2d(3,64,kernel_size = 11, stride = 4, padding=2 ),\n",
        "        nn.ReLU(inplace=True),\n",
        "        nn.MaxPool2d(kernel_size = 3,stride= 2) ,\n",
        "\n",
        "        nn.Conv2d(64,192,kernel_size = 5, padding=2 ),\n",
        "        nn.ReLU(inplace=True),\n",
        "        nn.MaxPool2d(kernel_size = 3,stride= 2),\n",
        "\n",
        "        nn.Conv2d(192,384,kernel_size = 3, padding=1 ),\n",
        "        nn.ReLU(inplace=True),\n",
        "\n",
        "        nn.Conv2d(384,256,kernel_size = 3, padding=1 ),\n",
        "        nn.ReLU(inplace=True),\n",
        "        \n",
        "        nn.Conv2d(256,256,kernel_size = 3, padding=1),\n",
        "        nn.ReLU(inplace=True),\n",
        "        nn.MaxPool2d(kernel_size = 3,stride= 2),\n",
        "        )\n",
        "    self.avgpool = nn.AdaptiveAvgPool2d((6,6))\n",
        "    self.classifier = nn.Sequential(\n",
        "        nn.Dropout(0.5),\n",
        "        nn.Linear(256*6*6,4096),\n",
        "        nn.ReLU(inplace=True),\n",
        "        nn.Dropout(0.5),\n",
        "        nn.ReLU(inplace= True),\n",
        "        nn.Linear(4096,4096),\n",
        "        nn.ReLU(inplace=True),\n",
        "        nn.Linear(4096,num_classes)\n",
        "\n",
        "    )\n",
        "\n",
        "  def forward(self,x):\n",
        "    x = self.features(x)\n",
        "    x = self.avgpool(x)\n",
        "    x = x.view(x.size(0), 256 * 6 * 6)\n",
        "    logits = self.classifier(x)\n",
        "    probas = F.softmax(logits, dim=1)\n",
        "    return logits, probas\n",
        "\n",
        "\n",
        "    \n",
        "    "
      ],
      "execution_count": null,
      "outputs": []
    },
    {
      "cell_type": "code",
      "metadata": {
        "id": "QyK50N3c_aT8",
        "colab_type": "code",
        "colab": {}
      },
      "source": [
        "torch.manual_seed(randomseed)\n",
        "\n",
        "model = AlexNet(NUM_CLASSES)\n",
        "model.to(DEVICE)\n",
        "\n",
        "optimizer = torch.optim.Adam(model.parameters(), lr=learning_rate)"
      ],
      "execution_count": null,
      "outputs": []
    },
    {
      "cell_type": "code",
      "metadata": {
        "id": "sPIz-T54CqwR",
        "colab_type": "code",
        "colab": {}
      },
      "source": [
        "def compute_acc(model,data_loader,device):\n",
        "  correct_pred,num_examples = 0,0\n",
        "  model.eval()\n",
        "  for i,(features,targets) in enumerate(data_loader):\n",
        "    features = features.to(device)\n",
        "    targets=targets.to(device)\n",
        "\n",
        "    logits, probas = model(features)\n",
        "    _, predicted_labels = torch.max(probas, 1)\n",
        "    num_examples += targets.size(0)\n",
        "    assert predicted_labels.size() == targets.size()\n",
        "    correct_pred += (predicted_labels == targets).sum()\n",
        "  return correct_pred.float()/num_examples * 100\n"
      ],
      "execution_count": null,
      "outputs": []
    },
    {
      "cell_type": "code",
      "metadata": {
        "id": "SDPRnXgQEFRK",
        "colab_type": "code",
        "colab": {
          "base_uri": "https://localhost:8080/",
          "height": 1000
        },
        "outputId": "c899b365-a134-4631-c57e-c32d36f667f9"
      },
      "source": [
        "\n",
        "start_time = time.time()\n",
        "\n",
        "cost_list = []\n",
        "train_acc_list, valid_acc_list = [], []\n",
        "\n",
        "\n",
        "for epoch in range(epochs):\n",
        "    \n",
        "    model.train()\n",
        "    for batch_idx, (features, targets) in enumerate(train_loader):\n",
        "        \n",
        "        features = features.to(DEVICE)\n",
        "        targets = targets.to(DEVICE)\n",
        "            \n",
        "        ### FORWARD AND BACK PROP\n",
        "        logits, probas = model(features)\n",
        "        cost = F.cross_entropy(logits, targets)\n",
        "        optimizer.zero_grad()\n",
        "        \n",
        "        cost.backward()\n",
        "        \n",
        "        ### UPDATE MODEL PARAMETERS\n",
        "        optimizer.step()\n",
        "        \n",
        "        #################################################\n",
        "        ### CODE ONLY FOR LOGGING BEYOND THIS POINT\n",
        "        ################################################\n",
        "        cost_list.append(cost.item())\n",
        "        if not batch_idx % 150:\n",
        "            print (f'Epoch: {epoch+1:03d}/{NUM_EPOCHS:03d} | '\n",
        "                   f'Batch {batch_idx:03d}/{len(train_loader):03d} |' \n",
        "                   f' Cost: {cost:.4f}')\n",
        "\n",
        "        \n",
        "\n",
        "    model.eval()\n",
        "    with torch.set_grad_enabled(False): # save memory during inference\n",
        "        \n",
        "        train_acc = compute_acc(model, train_loader, device=DEVICE)\n",
        "        valid_acc = compute_acc(model, valid_loader, device=DEVICE)\n",
        "        \n",
        "        print(f'Epoch: {epoch+1:03d}/{NUM_EPOCHS:03d}\\n'\n",
        "              f'Train ACC: {train_acc:.2f} | Validation ACC: {valid_acc:.2f}')\n",
        "        \n",
        "        train_acc_list.append(train_acc)\n",
        "        valid_acc_list.append(valid_acc)\n",
        "        \n",
        "    elapsed = (time.time() - start_time)/60\n",
        "    print(f'Time elapsed: {elapsed:.2f} min')\n",
        "  \n",
        "elapsed = (time.time() - start_time)/60\n",
        "print(f'Total Training Time: {elapsed:.2f} min')"
      ],
      "execution_count": null,
      "outputs": [
        {
          "output_type": "stream",
          "text": [
            "Epoch: 001/020 | Batch 000/375 | Cost: 2.3030\n",
            "Epoch: 001/020 | Batch 150/375 | Cost: 2.3029\n",
            "Epoch: 001/020 | Batch 300/375 | Cost: 2.3040\n",
            "Epoch: 001/020\n",
            "Train ACC: 10.03 | Validation ACC: 9.35\n",
            "Time elapsed: 0.44 min\n",
            "Epoch: 002/020 | Batch 000/375 | Cost: 2.3028\n",
            "Epoch: 002/020 | Batch 150/375 | Cost: 2.3025\n",
            "Epoch: 002/020 | Batch 300/375 | Cost: 2.3027\n",
            "Epoch: 002/020\n",
            "Train ACC: 9.99 | Validation ACC: 10.20\n",
            "Time elapsed: 0.88 min\n",
            "Epoch: 003/020 | Batch 000/375 | Cost: 2.3017\n",
            "Epoch: 003/020 | Batch 150/375 | Cost: 2.3009\n",
            "Epoch: 003/020 | Batch 300/375 | Cost: 2.3031\n",
            "Epoch: 003/020\n",
            "Train ACC: 10.06 | Validation ACC: 8.60\n",
            "Time elapsed: 1.33 min\n",
            "Epoch: 004/020 | Batch 000/375 | Cost: 2.3044\n",
            "Epoch: 004/020 | Batch 150/375 | Cost: 2.3030\n",
            "Epoch: 004/020 | Batch 300/375 | Cost: 2.3023\n",
            "Epoch: 004/020\n",
            "Train ACC: 10.06 | Validation ACC: 8.60\n",
            "Time elapsed: 1.77 min\n",
            "Epoch: 005/020 | Batch 000/375 | Cost: 2.3026\n",
            "Epoch: 005/020 | Batch 150/375 | Cost: 2.3023\n",
            "Epoch: 005/020 | Batch 300/375 | Cost: 2.3024\n",
            "Epoch: 005/020\n",
            "Train ACC: 10.01 | Validation ACC: 9.85\n",
            "Time elapsed: 2.21 min\n",
            "Epoch: 006/020 | Batch 000/375 | Cost: 2.3023\n",
            "Epoch: 006/020 | Batch 150/375 | Cost: 2.3018\n",
            "Epoch: 006/020 | Batch 300/375 | Cost: 2.3030\n",
            "Epoch: 006/020\n",
            "Train ACC: 10.06 | Validation ACC: 8.60\n",
            "Time elapsed: 2.65 min\n",
            "Epoch: 007/020 | Batch 000/375 | Cost: 2.3036\n",
            "Epoch: 007/020 | Batch 150/375 | Cost: 2.3028\n",
            "Epoch: 007/020 | Batch 300/375 | Cost: 2.3024\n",
            "Epoch: 007/020\n",
            "Train ACC: 10.00 | Validation ACC: 10.10\n",
            "Time elapsed: 3.08 min\n",
            "Epoch: 008/020 | Batch 000/375 | Cost: 2.3030\n",
            "Epoch: 008/020 | Batch 150/375 | Cost: 2.3033\n",
            "Epoch: 008/020 | Batch 300/375 | Cost: 2.3033\n",
            "Epoch: 008/020\n",
            "Train ACC: 9.99 | Validation ACC: 10.20\n",
            "Time elapsed: 3.52 min\n",
            "Epoch: 009/020 | Batch 000/375 | Cost: 2.3030\n",
            "Epoch: 009/020 | Batch 150/375 | Cost: 2.3016\n",
            "Epoch: 009/020 | Batch 300/375 | Cost: 2.3037\n",
            "Epoch: 009/020\n",
            "Train ACC: 10.06 | Validation ACC: 8.60\n",
            "Time elapsed: 3.95 min\n",
            "Epoch: 010/020 | Batch 000/375 | Cost: 2.3021\n",
            "Epoch: 010/020 | Batch 150/375 | Cost: 2.3026\n",
            "Epoch: 010/020 | Batch 300/375 | Cost: 2.3030\n",
            "Epoch: 010/020\n",
            "Train ACC: 9.99 | Validation ACC: 10.20\n",
            "Time elapsed: 4.38 min\n",
            "Epoch: 011/020 | Batch 000/375 | Cost: 2.3037\n",
            "Epoch: 011/020 | Batch 150/375 | Cost: 2.3029\n",
            "Epoch: 011/020 | Batch 300/375 | Cost: 2.3032\n",
            "Epoch: 011/020\n",
            "Train ACC: 9.98 | Validation ACC: 10.50\n",
            "Time elapsed: 4.82 min\n",
            "Epoch: 012/020 | Batch 000/375 | Cost: 2.3040\n",
            "Epoch: 012/020 | Batch 150/375 | Cost: 2.3040\n",
            "Epoch: 012/020 | Batch 300/375 | Cost: 2.3029\n",
            "Epoch: 012/020\n",
            "Train ACC: 10.03 | Validation ACC: 9.35\n",
            "Time elapsed: 5.25 min\n",
            "Epoch: 013/020 | Batch 000/375 | Cost: 2.3033\n",
            "Epoch: 013/020 | Batch 150/375 | Cost: 2.3037\n",
            "Epoch: 013/020 | Batch 300/375 | Cost: 2.3017\n",
            "Epoch: 013/020\n",
            "Train ACC: 10.03 | Validation ACC: 9.35\n",
            "Time elapsed: 5.68 min\n",
            "Epoch: 014/020 | Batch 000/375 | Cost: 2.3017\n",
            "Epoch: 014/020 | Batch 150/375 | Cost: 2.3039\n",
            "Epoch: 014/020 | Batch 300/375 | Cost: 2.3038\n",
            "Epoch: 014/020\n",
            "Train ACC: 9.98 | Validation ACC: 10.50\n",
            "Time elapsed: 6.11 min\n",
            "Epoch: 015/020 | Batch 000/375 | Cost: 2.3038\n",
            "Epoch: 015/020 | Batch 150/375 | Cost: 2.3027\n",
            "Epoch: 015/020 | Batch 300/375 | Cost: 2.3027\n",
            "Epoch: 015/020\n",
            "Train ACC: 9.97 | Validation ACC: 10.70\n",
            "Time elapsed: 6.55 min\n",
            "Epoch: 016/020 | Batch 000/375 | Cost: 2.3040\n",
            "Epoch: 016/020 | Batch 150/375 | Cost: 2.3022\n",
            "Epoch: 016/020 | Batch 300/375 | Cost: 2.3018\n",
            "Epoch: 016/020\n",
            "Train ACC: 10.00 | Validation ACC: 10.05\n",
            "Time elapsed: 6.98 min\n",
            "Epoch: 017/020 | Batch 000/375 | Cost: 2.3024\n",
            "Epoch: 017/020 | Batch 150/375 | Cost: 2.3037\n",
            "Epoch: 017/020 | Batch 300/375 | Cost: 2.3028\n",
            "Epoch: 017/020\n",
            "Train ACC: 10.03 | Validation ACC: 9.35\n",
            "Time elapsed: 7.41 min\n",
            "Epoch: 018/020 | Batch 000/375 | Cost: 2.3018\n",
            "Epoch: 018/020 | Batch 150/375 | Cost: 2.3034\n",
            "Epoch: 018/020 | Batch 300/375 | Cost: 2.3032\n",
            "Epoch: 018/020\n",
            "Train ACC: 10.00 | Validation ACC: 9.90\n",
            "Time elapsed: 7.84 min\n",
            "Epoch: 019/020 | Batch 000/375 | Cost: 2.3031\n",
            "Epoch: 019/020 | Batch 150/375 | Cost: 2.3005\n",
            "Epoch: 019/020 | Batch 300/375 | Cost: 2.3035\n",
            "Epoch: 019/020\n",
            "Train ACC: 10.00 | Validation ACC: 10.05\n",
            "Time elapsed: 8.28 min\n",
            "Epoch: 020/020 | Batch 000/375 | Cost: 2.3019\n",
            "Epoch: 020/020 | Batch 150/375 | Cost: 2.3036\n",
            "Epoch: 020/020 | Batch 300/375 | Cost: 2.3020\n",
            "Epoch: 020/020\n",
            "Train ACC: 10.01 | Validation ACC: 9.85\n",
            "Time elapsed: 8.71 min\n",
            "Total Training Time: 8.71 min\n"
          ],
          "name": "stdout"
        }
      ]
    },
    {
      "cell_type": "code",
      "metadata": {
        "id": "uxSm4Le_EH7v",
        "colab_type": "code",
        "colab": {}
      },
      "source": [
        "\n",
        "if torch.cuda.is_available():\n",
        "    torch.backends.cudnn.deterministic = True"
      ],
      "execution_count": null,
      "outputs": []
    },
    {
      "cell_type": "code",
      "metadata": {
        "id": "XdGd9iQxIbRg",
        "colab_type": "code",
        "colab": {}
      },
      "source": [
        ""
      ],
      "execution_count": null,
      "outputs": []
    }
  ]
}