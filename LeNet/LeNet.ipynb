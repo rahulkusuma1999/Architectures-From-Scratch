{
  "nbformat": 4,
  "nbformat_minor": 0,
  "metadata": {
    "colab": {
      "name": "LeNet.ipynb",
      "provenance": []
    },
    "kernelspec": {
      "name": "python3",
      "display_name": "Python 3"
    },
    "accelerator": "GPU"
  },
  "cells": [
    {
      "cell_type": "code",
      "metadata": {
        "id": "4xq1ew0sS7PT",
        "colab_type": "code",
        "colab": {}
      },
      "source": [
        "import torch\n",
        "import torch.nn as nn"
      ],
      "execution_count": 2,
      "outputs": []
    },
    {
      "cell_type": "code",
      "metadata": {
        "id": "qLz0jyC3TDBS",
        "colab_type": "code",
        "colab": {
          "base_uri": "https://localhost:8080/",
          "height": 34
        },
        "outputId": "5c837a17-7900-4741-e7f2-5037178ec0b5"
      },
      "source": [
        "class LeNet(nn.Module):\n",
        "  def __init__(self):\n",
        "    super(LeNet ,self).__init__()\n",
        "    self.relu = nn.ReLU()\n",
        "    self.pool = nn.AvgPool2d(kernel_size=(2,2),stride=(2,2))\n",
        "    self.conv1 = nn.Conv2d(\n",
        "        in_channels=1,\n",
        "        out_channels=6,\n",
        "        kernel_size=(5,5),\n",
        "        stride=(1,1),\n",
        "        padding=(0,0),\n",
        "    )\n",
        "\n",
        "    self.conv2 = nn.Conv2d(\n",
        "        in_channels=6,out_channels=16,\n",
        "        kernel_size=(5,5),\n",
        "        stride=(1,1),\n",
        "        padding=(0,0),\n",
        "    )\n",
        "\n",
        "    self.conv3 = nn.Conv2d(\n",
        "        in_channels=16,\n",
        "        out_channels=120,\n",
        "        kernel_size=(5, 5),\n",
        "        stride=(1, 1),\n",
        "        padding=(0, 0),\n",
        "    )\n",
        "\n",
        "    self.linear1 = nn.Linear(120,84)\n",
        "    self.linear2 = nn.Linear(84,10)\n",
        "\n",
        "  def forward(self,x):\n",
        "    x= self.relu(self.conv1(x))\n",
        "    x=self.pool(x)\n",
        "    x=self.relu(self.conv2(x))\n",
        "    x=self.pool(x)\n",
        "    x=self.relu(x)\n",
        "    x=self.relu(self.conv3(x))\n",
        "    x=x.reshape(x.shape[0],-1)\n",
        "    x=self.relu(self.linear1(x))\n",
        "    x=self.linear2(x)\n",
        "    return x\n",
        "\n",
        "def test_lenet():\n",
        "  x=torch.randn(64,1,32,32)\n",
        "  model=LeNet()\n",
        "  return model(x)\n",
        "\n",
        "if __name__==\"__main__\":\n",
        "  out= test_lenet()\n",
        "  print(out.shape)"
      ],
      "execution_count": 11,
      "outputs": [
        {
          "output_type": "stream",
          "text": [
            "torch.Size([64, 10])\n"
          ],
          "name": "stdout"
        }
      ]
    },
    {
      "cell_type": "code",
      "metadata": {
        "id": "l20I7Vs1Vf8n",
        "colab_type": "code",
        "colab": {}
      },
      "source": [
        ""
      ],
      "execution_count": null,
      "outputs": []
    }
  ]
}